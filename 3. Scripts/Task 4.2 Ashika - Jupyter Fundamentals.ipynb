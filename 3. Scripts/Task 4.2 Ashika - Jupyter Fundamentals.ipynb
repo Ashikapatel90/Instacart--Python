{
 "cells": [
  {
   "cell_type": "markdown",
   "id": "c5afad68",
   "metadata": {},
   "source": [
    "# Importing Libraries"
   ]
  },
  {
   "cell_type": "code",
   "execution_count": 1,
   "id": "27e73a7d",
   "metadata": {},
   "outputs": [],
   "source": [
    "#import libraries\n",
    "import pandas as apd\n",
    "import numpy as np\n",
    "import os"
   ]
  },
  {
   "cell_type": "markdown",
   "id": "c1563326",
   "metadata": {},
   "source": [
    "# Importing Data"
   ]
  },
  {
   "cell_type": "code",
   "execution_count": 2,
   "id": "b91e1c45",
   "metadata": {},
   "outputs": [],
   "source": [
    "# 3 different ways of reaching a result of 100"
   ]
  },
  {
   "cell_type": "code",
   "execution_count": 3,
   "id": "3de98dbb",
   "metadata": {},
   "outputs": [],
   "source": [
    "x=60+40"
   ]
  },
  {
   "cell_type": "code",
   "execution_count": 4,
   "id": "e3713e49",
   "metadata": {},
   "outputs": [],
   "source": [
    "y=10*10"
   ]
  },
  {
   "cell_type": "code",
   "execution_count": 5,
   "id": "3153037e",
   "metadata": {},
   "outputs": [],
   "source": [
    "z=150-30-20"
   ]
  },
  {
   "cell_type": "code",
   "execution_count": 6,
   "id": "29d3ca84",
   "metadata": {},
   "outputs": [
    {
     "name": "stdout",
     "output_type": "stream",
     "text": [
      "100 100 100\n"
     ]
    }
   ],
   "source": [
    "print (x,y,z)"
   ]
  },
  {
   "cell_type": "code",
   "execution_count": null,
   "id": "18adc9d8",
   "metadata": {},
   "outputs": [],
   "source": [
    "# Code 2 floating-point variables and divide them by each other."
   ]
  },
  {
   "cell_type": "code",
   "execution_count": 7,
   "id": "f0549ebd",
   "metadata": {},
   "outputs": [
    {
     "name": "stdout",
     "output_type": "stream",
     "text": [
      "1.8363636363636362\n"
     ]
    }
   ],
   "source": [
    "a=10.10\n",
    "b=5.5\n",
    "c=a/b\n",
    "print (c)"
   ]
  },
  {
   "cell_type": "code",
   "execution_count": null,
   "id": "a535ebbd",
   "metadata": {},
   "outputs": [],
   "source": [
    "# Construct a short word made of separate strings"
   ]
  },
  {
   "cell_type": "code",
   "execution_count": 12,
   "id": "df1ce2a6",
   "metadata": {},
   "outputs": [
    {
     "name": "stdout",
     "output_type": "stream",
     "text": [
      "BERLIN\n"
     ]
    }
   ],
   "source": [
    "b='B'\n",
    "e='E'\n",
    "r='R'\n",
    "l='L'\n",
    "i='I'\n",
    "n='N'\n",
    "Q=b+e+r+l+i+n\n",
    "print(Q)"
   ]
  },
  {
   "cell_type": "code",
   "execution_count": 11,
   "id": "912a68cd",
   "metadata": {},
   "outputs": [
    {
     "name": "stdout",
     "output_type": "stream",
     "text": [
      "I Love Berlin\n"
     ]
    }
   ],
   "source": [
    "I='I'\n",
    "L=' Love'\n",
    "U=' Berlin'\n",
    "V=I+L+U\n",
    "print (V)\n"
   ]
  },
  {
   "cell_type": "code",
   "execution_count": null,
   "id": "de8fbde9",
   "metadata": {},
   "outputs": [],
   "source": [
    "# Bonus Task"
   ]
  },
  {
   "cell_type": "code",
   "execution_count": 13,
   "id": "34252d5e",
   "metadata": {},
   "outputs": [],
   "source": [
    "q=Q*100"
   ]
  },
  {
   "cell_type": "code",
   "execution_count": 18,
   "id": "81593bd5",
   "metadata": {},
   "outputs": [
    {
     "name": "stdout",
     "output_type": "stream",
     "text": [
      "BERLINBERLINBERLINBERLINBERLINBERLINBERLINBERLINBERLINBERLINBERLINBERLINBERLINBERLINBERLINBERLINBERLINBERLINBERLINBERLINBERLINBERLINBERLINBERLINBERLINBERLINBERLINBERLINBERLINBERLINBERLINBERLINBERLINBERLINBERLINBERLINBERLINBERLINBERLINBERLINBERLINBERLINBERLINBERLINBERLINBERLINBERLINBERLINBERLINBERLINBERLINBERLINBERLINBERLINBERLINBERLINBERLINBERLINBERLINBERLINBERLINBERLINBERLINBERLINBERLINBERLINBERLINBERLINBERLINBERLINBERLINBERLINBERLINBERLINBERLINBERLINBERLINBERLINBERLINBERLINBERLINBERLINBERLINBERLINBERLINBERLINBERLINBERLINBERLINBERLINBERLINBERLINBERLINBERLINBERLINBERLINBERLINBERLINBERLINBERLIN\n"
     ]
    }
   ],
   "source": [
    "print(q)"
   ]
  },
  {
   "cell_type": "code",
   "execution_count": null,
   "id": "e2a82a02",
   "metadata": {},
   "outputs": [],
   "source": []
  }
 ],
 "metadata": {
  "kernelspec": {
   "display_name": "Python 3 (ipykernel)",
   "language": "python",
   "name": "python3"
  },
  "language_info": {
   "codemirror_mode": {
    "name": "ipython",
    "version": 3
   },
   "file_extension": ".py",
   "mimetype": "text/x-python",
   "name": "python",
   "nbconvert_exporter": "python",
   "pygments_lexer": "ipython3",
   "version": "3.9.13"
  }
 },
 "nbformat": 4,
 "nbformat_minor": 5
}
